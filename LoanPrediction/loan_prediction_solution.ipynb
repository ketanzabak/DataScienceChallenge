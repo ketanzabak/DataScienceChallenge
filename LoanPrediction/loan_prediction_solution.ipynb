{
 "cells": [
  {
   "cell_type": "code",
   "execution_count": 71,
   "metadata": {},
   "outputs": [],
   "source": [
    "# Importing the libraries\n",
    "import numpy as np\n",
    "import matplotlib.pyplot as plt\n",
    "import pandas as pd\n",
    "from scipy.stats import mode\n",
    "from sklearn.preprocessing import LabelEncoder\n",
    "from sklearn.linear_model import LinearRegression\n",
    "from sklearn.model_selection import train_test_split\n",
    "from sklearn.linear_model import Ridge\n",
    "from sklearn.model_selection import cross_val_score\n",
    "from sklearn.model_selection import GridSearchCV\n",
    "from xgboost import XGBRegressor"
   ]
  },
  {
   "cell_type": "code",
   "execution_count": 72,
   "metadata": {},
   "outputs": [],
   "source": [
    "\"\"\"\n",
    "Combine train and test data \n",
    "Add one more column to the combined data to identify train and test data.\n",
    "\"\"\"\n",
    "def combine_datasets(train, test):\n",
    "    dataset_train['source'] = 'train'\n",
    "    dataset_test['source'] = 'test'\n",
    "    combined_data = pd.concat([dataset_train,dataset_test], ignore_index=True)\n",
    "    return combined_data;\n"
   ]
  },
  {
   "cell_type": "code",
   "execution_count": 73,
   "metadata": {},
   "outputs": [],
   "source": [
    "\"\"\"\n",
    "Print the summary of the given dataframe.\n",
    "This method prints following summary details of the dataframe:\n",
    "    1: shape\n",
    "    2: Null values per column\n",
    "\"\"\"\n",
    "def print_dataset_summary(dataset):\n",
    "    print(\"\\n\\n<------ Summary for data --->\")\n",
    "    print(\"\\tShape of train data\",dataset.shape)\n",
    "\n",
    "    print(\"\\tPrinting null values per column :\")    \n",
    "    print(combined_data.apply(lambda x: sum(x.isnull())))    \n"
   ]
  },
  {
   "cell_type": "code",
   "execution_count": 74,
   "metadata": {},
   "outputs": [],
   "source": [
    "\"\"\"\n",
    "Calculate mean square error.\n",
    "\"\"\"\n",
    "def calculate_mse(Y_pred, Y_actual):\n",
    "    # calculate MSE\n",
    "    mse = np.mean((Y_pred-Y_actual)**2)\n",
    "    return mse"
   ]
  },
  {
   "cell_type": "code",
   "execution_count": 75,
   "metadata": {},
   "outputs": [],
   "source": [
    "def plot_residual_graph(Y_pred, Y_actual):\n",
    "    # Plot the graph and check the data pattern.\n",
    "    # residual plot\n",
    "    x_plot = plt.scatter(Y_pred, (Y_pred - Y_actual), c='b')\n",
    "    plt.hlines(y=0, xmin= -1000, xmax=5000)\n",
    "    plt.title('Residual plot')\n"
   ]
  },
  {
   "cell_type": "code",
   "execution_count": 76,
   "metadata": {},
   "outputs": [],
   "source": [
    "def unique_val_categorical_col(categorical_columns):\n",
    "    for column in categorical_columns:\n",
    "        print(\"<--------- Column name: \",column,\" ----------->\")\n",
    "        print(combined_data[column].value_counts())\n",
    "        "
   ]
  },
  {
   "cell_type": "code",
   "execution_count": 77,
   "metadata": {},
   "outputs": [],
   "source": [
    "def plot_categorical_features(df, categorical_columns):\n",
    "   print(\"Size of list: \",len(categorical_columns))\n",
    "   for column in categorical_columns:\n",
    "       df[column].value_counts().plot(kind=\"bar\",title=column)\n",
    "       plt.show()"
   ]
  },
  {
   "cell_type": "code",
   "execution_count": 78,
   "metadata": {},
   "outputs": [
    {
     "name": "stderr",
     "output_type": "stream",
     "text": [
      "/home/ketan/installation/anaconda3/envs/datascience_env/lib/python3.7/site-packages/ipykernel_launcher.py:8: FutureWarning: Sorting because non-concatenation axis is not aligned. A future version\n",
      "of pandas will change to not sort by default.\n",
      "\n",
      "To accept the future behavior, pass 'sort=False'.\n",
      "\n",
      "To retain the current behavior and silence the warning, pass 'sort=True'.\n",
      "\n",
      "  \n"
     ]
    }
   ],
   "source": [
    "# Importing the dataset\n",
    "dataset_train = pd.read_csv('data/train_av.csv')\n",
    "dataset_test = pd.read_csv('data/test_av.csv')\n",
    "    \n",
    "combined_data = combine_datasets(dataset_train, dataset_test)\n",
    " "
   ]
  },
  {
   "cell_type": "code",
   "execution_count": 79,
   "metadata": {},
   "outputs": [
    {
     "name": "stdout",
     "output_type": "stream",
     "text": [
      "Summary of train data\n",
      "\n",
      "\n",
      "<------ Summary for data --->\n",
      "\tShape of train data (614, 14)\n",
      "\tPrinting null values per column :\n",
      "ApplicantIncome        0\n",
      "CoapplicantIncome      0\n",
      "Credit_History        79\n",
      "Dependents            25\n",
      "Education              0\n",
      "Gender                24\n",
      "LoanAmount            27\n",
      "Loan_Amount_Term      20\n",
      "Loan_ID                0\n",
      "Loan_Status          367\n",
      "Married                3\n",
      "Property_Area          0\n",
      "Self_Employed         55\n",
      "source                 0\n",
      "dtype: int64\n"
     ]
    }
   ],
   "source": [
    "print(\"Summary of train data\")\n",
    "print_dataset_summary(dataset_train)    "
   ]
  },
  {
   "cell_type": "code",
   "execution_count": 80,
   "metadata": {},
   "outputs": [
    {
     "name": "stdout",
     "output_type": "stream",
     "text": [
      "Summary of test data\n",
      "\n",
      "\n",
      "<------ Summary for data --->\n",
      "\tShape of train data (367, 13)\n",
      "\tPrinting null values per column :\n",
      "ApplicantIncome        0\n",
      "CoapplicantIncome      0\n",
      "Credit_History        79\n",
      "Dependents            25\n",
      "Education              0\n",
      "Gender                24\n",
      "LoanAmount            27\n",
      "Loan_Amount_Term      20\n",
      "Loan_ID                0\n",
      "Loan_Status          367\n",
      "Married                3\n",
      "Property_Area          0\n",
      "Self_Employed         55\n",
      "source                 0\n",
      "dtype: int64\n"
     ]
    }
   ],
   "source": [
    "print(\"Summary of test data\")\n",
    "print_dataset_summary(dataset_test)    \n"
   ]
  },
  {
   "cell_type": "code",
   "execution_count": 81,
   "metadata": {},
   "outputs": [
    {
     "name": "stdout",
     "output_type": "stream",
     "text": [
      "Summary of combined data\n",
      "\n",
      "\n",
      "<------ Summary for data --->\n",
      "\tShape of train data (981, 14)\n",
      "\tPrinting null values per column :\n",
      "ApplicantIncome        0\n",
      "CoapplicantIncome      0\n",
      "Credit_History        79\n",
      "Dependents            25\n",
      "Education              0\n",
      "Gender                24\n",
      "LoanAmount            27\n",
      "Loan_Amount_Term      20\n",
      "Loan_ID                0\n",
      "Loan_Status          367\n",
      "Married                3\n",
      "Property_Area          0\n",
      "Self_Employed         55\n",
      "source                 0\n",
      "dtype: int64\n"
     ]
    }
   ],
   "source": [
    "print(\"Summary of combined data\")\n",
    "print_dataset_summary(combined_data)   "
   ]
  },
  {
   "cell_type": "code",
   "execution_count": 82,
   "metadata": {},
   "outputs": [
    {
     "name": "stdout",
     "output_type": "stream",
     "text": [
      "['Dependents', 'Education', 'Gender', 'Loan_ID', 'Loan_Status', 'Married', 'Property_Area', 'Self_Employed', 'source']\n"
     ]
    }
   ],
   "source": [
    "#get categorical column\n",
    "categorical_column = [x for x in combined_data.dtypes.index if combined_data.dtypes[x] == 'object']\n",
    "print(categorical_column)"
   ]
  },
  {
   "cell_type": "code",
   "execution_count": 83,
   "metadata": {},
   "outputs": [
    {
     "name": "stdout",
     "output_type": "stream",
     "text": [
      "<--------- Column name:  Dependents  ----------->\n",
      "0     545\n",
      "2     160\n",
      "1     160\n",
      "3+     91\n",
      "Name: Dependents, dtype: int64\n",
      "<--------- Column name:  Education  ----------->\n",
      "Graduate        763\n",
      "Not Graduate    218\n",
      "Name: Education, dtype: int64\n",
      "<--------- Column name:  Gender  ----------->\n",
      "Male      775\n",
      "Female    182\n",
      "Name: Gender, dtype: int64\n",
      "<--------- Column name:  Loan_ID  ----------->\n",
      "LP002657    1\n",
      "LP001657    1\n",
      "LP002412    1\n",
      "LP002989    1\n",
      "LP002057    1\n",
      "LP001325    1\n",
      "LP001568    1\n",
      "LP001817    1\n",
      "LP002792    1\n",
      "LP001036    1\n",
      "LP001221    1\n",
      "LP001827    1\n",
      "LP001578    1\n",
      "LP002784    1\n",
      "LP002505    1\n",
      "LP001599    1\n",
      "LP001639    1\n",
      "LP001370    1\n",
      "LP001910    1\n",
      "LP001107    1\n",
      "LP001391    1\n",
      "LP001643    1\n",
      "LP002175    1\n",
      "LP001691    1\n",
      "LP002170    1\n",
      "LP001024    1\n",
      "LP001280    1\n",
      "LP002720    1\n",
      "LP002103    1\n",
      "LP001945    1\n",
      "           ..\n",
      "LP002888    1\n",
      "LP002325    1\n",
      "LP001207    1\n",
      "LP002860    1\n",
      "LP002495    1\n",
      "LP002205    1\n",
      "LP001469    1\n",
      "LP002344    1\n",
      "LP001270    1\n",
      "LP002964    1\n",
      "LP002138    1\n",
      "LP002319    1\n",
      "LP001884    1\n",
      "LP002606    1\n",
      "LP001034    1\n",
      "LP002143    1\n",
      "LP001144    1\n",
      "LP002582    1\n",
      "LP001789    1\n",
      "LP002453    1\n",
      "LP001818    1\n",
      "LP001650    1\n",
      "LP002706    1\n",
      "LP002794    1\n",
      "LP002530    1\n",
      "LP001674    1\n",
      "LP002111    1\n",
      "LP002386    1\n",
      "LP001138    1\n",
      "LP002741    1\n",
      "Name: Loan_ID, Length: 981, dtype: int64\n",
      "<--------- Column name:  Loan_Status  ----------->\n",
      "Y    422\n",
      "N    192\n",
      "Name: Loan_Status, dtype: int64\n",
      "<--------- Column name:  Married  ----------->\n",
      "Yes    631\n",
      "No     347\n",
      "Name: Married, dtype: int64\n",
      "<--------- Column name:  Property_Area  ----------->\n",
      "Semiurban    349\n",
      "Urban        342\n",
      "Rural        290\n",
      "Name: Property_Area, dtype: int64\n",
      "<--------- Column name:  Self_Employed  ----------->\n",
      "No     807\n",
      "Yes    119\n",
      "Name: Self_Employed, dtype: int64\n",
      "<--------- Column name:  source  ----------->\n",
      "train    614\n",
      "test     367\n",
      "Name: source, dtype: int64\n"
     ]
    }
   ],
   "source": [
    "unique_val_categorical_col(categorical_column)"
   ]
  },
  {
   "cell_type": "code",
   "execution_count": 84,
   "metadata": {},
   "outputs": [
    {
     "name": "stdout",
     "output_type": "stream",
     "text": [
      "Size of list:  9\n"
     ]
    },
    {
     "data": {
      "image/png": "[encoded data removed]",
      "text/plain": [
       "<Figure size 432x288 with 1 Axes>"
      ]
     },
     "metadata": {
      "needs_background": "light"
     },
     "output_type": "display_data"
    },
    {
     "data": {
      "image/png": "[encoded data removed]",
      "text/plain": [
       "<Figure size 432x288 with 1 Axes>"
      ]
     },
     "metadata": {
      "needs_background": "light"
     },
     "output_type": "display_data"
    },
    {
     "data": {
      "image/png": "[encoded data removed]",
      "text/plain": [
       "<Figure size 432x288 with 1 Axes>"
      ]
     },
     "metadata": {
      "needs_background": "light"
     },
     "output_type": "display_data"
    },
    {
     "data": {
      "image/png": "[encoded data removed]",
      "text/plain": [
       "<Figure size 432x288 with 1 Axes>"
      ]
     },
     "metadata": {
      "needs_background": "light"
     },
     "output_type": "display_data"
    },
    {
     "data": {
      "image/png": "[encoded data removed]",
      "text/plain": [
       "<Figure size 432x288 with 1 Axes>"
      ]
     },
     "metadata": {
      "needs_background": "light"
     },
     "output_type": "display_data"
    },
    {
     "data": {
      "image/png": "[encoded data removed]",
      "text/plain": [
       "<Figure size 432x288 with 1 Axes>"
      ]
     },
     "metadata": {
      "needs_background": "light"
     },
     "output_type": "display_data"
    },
    {
     "data": {
      "image/png": "[encoded data removed]",
      "text/plain": [
       "<Figure size 432x288 with 1 Axes>"
      ]
     },
     "metadata": {
      "needs_background": "light"
     },
     "output_type": "display_data"
    },
    {
     "data": {
      "image/png": "[encoded data removed]",
      "text/plain": [
       "<Figure size 432x288 with 1 Axes>"
      ]
     },
     "metadata": {
      "needs_background": "light"
     },
     "output_type": "display_data"
    },
    {
     "data": {
      "image/png": "[encoded data removed]",
      "text/plain": [
       "<Figure size 432x288 with 1 Axes>"
      ]
     },
     "metadata": {
      "needs_background": "light"
     },
     "output_type": "display_data"
    }
   ],
   "source": [
    "plot_categorical_features(combined_data, categorical_column)"
   ]
  },
  {
   "cell_type": "code",
   "execution_count": 85,
   "metadata": {},
   "outputs": [],
   "source": [
    "# Missing value imputation for categorical features.\n",
    "\n",
    "combined_data[\"Gender\"].fillna(\"Male\",inplace=True)\n",
    "combined_data[\"Married\"].fillna(\"Yes\",inplace=True)\n",
    "combined_data[\"Credit_History\"].fillna(1,inplace=True)\n",
    "combined_data[\"Credit_History\"].fillna(1,inplace=True)\n",
    "combined_data['Dependents'] = combined_data['Dependents'].map({'3+':'3', '1' : '1', '0' : '0', '2' : '2'})\n"
   ]
  },
  {
   "cell_type": "code",
   "execution_count": 86,
   "metadata": {},
   "outputs": [
    {
     "name": "stdout",
     "output_type": "stream",
     "text": [
      "\n",
      "\n",
      "<------ Summary for data --->\n",
      "\tShape of train data (981, 14)\n",
      "\tPrinting null values per column :\n",
      "ApplicantIncome        0\n",
      "CoapplicantIncome      0\n",
      "Credit_History         0\n",
      "Dependents            25\n",
      "Education              0\n",
      "Gender                 0\n",
      "LoanAmount            27\n",
      "Loan_Amount_Term      20\n",
      "Loan_ID                0\n",
      "Loan_Status          367\n",
      "Married                0\n",
      "Property_Area          0\n",
      "Self_Employed         55\n",
      "source                 0\n",
      "dtype: int64\n"
     ]
    }
   ],
   "source": [
    "print_dataset_summary(combined_data)"
   ]
  },
  {
   "cell_type": "code",
   "execution_count": null,
   "metadata": {},
   "outputs": [],
   "source": []
  },
  {
   "cell_type": "code",
   "execution_count": 87,
   "metadata": {},
   "outputs": [],
   "source": [
    "#combined_data['Loan_Amount_Term'].value_counts()\n",
    "combined_data[\"Loan_Amount_Term\"].fillna(360.0,inplace=True)\n",
    "missing_loan_amt = combined_data['LoanAmount'].isnull()\n",
    "mean_loan_amt = combined_data[\"LoanAmount\"].mean()\n",
    "combined_data[\"LoanAmount\"].fillna(mean_loan_amt, inplace= True)\n",
    "combined_data[\"Dependents\"].fillna(0, inplace= True)\n",
    "combined_data[\"Self_Employed\"].fillna(\"No\", inplace= True)"
   ]
  },
  {
   "cell_type": "code",
   "execution_count": 88,
   "metadata": {},
   "outputs": [],
   "source": [
    "\n",
    "combined_data = pd.get_dummies(combined_data, columns=['Education','Gender','Property_Area','Self_Employed','Married'])"
   ]
  },
  {
   "cell_type": "code",
   "execution_count": 89,
   "metadata": {},
   "outputs": [
    {
     "data": {
      "text/html": [
       "<div>\n",
       "<style scoped>\n",
       "    .dataframe tbody tr th:only-of-type {\n",
       "        vertical-align: middle;\n",
       "    }\n",
       "\n",
       "    .dataframe tbody tr th {\n",
       "        vertical-align: top;\n",
       "    }\n",
       "\n",
       "    .dataframe thead th {\n",
       "        text-align: right;\n",
       "    }\n",
       "</style>\n",
       "<table border=\"1\" class=\"dataframe\">\n",
       "  <thead>\n",
       "    <tr style=\"text-align: right;\">\n",
       "      <th></th>\n",
       "      <th>ApplicantIncome</th>\n",
       "      <th>CoapplicantIncome</th>\n",
       "      <th>Credit_History</th>\n",
       "      <th>Dependents</th>\n",
       "      <th>LoanAmount</th>\n",
       "      <th>Loan_Amount_Term</th>\n",
       "      <th>Loan_ID</th>\n",
       "      <th>Loan_Status</th>\n",
       "      <th>source</th>\n",
       "      <th>Education_Graduate</th>\n",
       "      <th>Education_Not Graduate</th>\n",
       "      <th>Gender_Female</th>\n",
       "      <th>Gender_Male</th>\n",
       "      <th>Property_Area_Rural</th>\n",
       "      <th>Property_Area_Semiurban</th>\n",
       "      <th>Property_Area_Urban</th>\n",
       "      <th>Self_Employed_No</th>\n",
       "      <th>Self_Employed_Yes</th>\n",
       "      <th>Married_No</th>\n",
       "      <th>Married_Yes</th>\n",
       "    </tr>\n",
       "  </thead>\n",
       "  <tbody>\n",
       "    <tr>\n",
       "      <th>0</th>\n",
       "      <td>5849</td>\n",
       "      <td>0.0</td>\n",
       "      <td>1.0</td>\n",
       "      <td>0</td>\n",
       "      <td>142.51153</td>\n",
       "      <td>360.0</td>\n",
       "      <td>LP001002</td>\n",
       "      <td>Y</td>\n",
       "      <td>train</td>\n",
       "      <td>1</td>\n",
       "      <td>0</td>\n",
       "      <td>0</td>\n",
       "      <td>1</td>\n",
       "      <td>0</td>\n",
       "      <td>0</td>\n",
       "      <td>1</td>\n",
       "      <td>1</td>\n",
       "      <td>0</td>\n",
       "      <td>1</td>\n",
       "      <td>0</td>\n",
       "    </tr>\n",
       "    <tr>\n",
       "      <th>1</th>\n",
       "      <td>4583</td>\n",
       "      <td>1508.0</td>\n",
       "      <td>1.0</td>\n",
       "      <td>1</td>\n",
       "      <td>128.00000</td>\n",
       "      <td>360.0</td>\n",
       "      <td>LP001003</td>\n",
       "      <td>N</td>\n",
       "      <td>train</td>\n",
       "      <td>1</td>\n",
       "      <td>0</td>\n",
       "      <td>0</td>\n",
       "      <td>1</td>\n",
       "      <td>1</td>\n",
       "      <td>0</td>\n",
       "      <td>0</td>\n",
       "      <td>1</td>\n",
       "      <td>0</td>\n",
       "      <td>0</td>\n",
       "      <td>1</td>\n",
       "    </tr>\n",
       "    <tr>\n",
       "      <th>2</th>\n",
       "      <td>3000</td>\n",
       "      <td>0.0</td>\n",
       "      <td>1.0</td>\n",
       "      <td>0</td>\n",
       "      <td>66.00000</td>\n",
       "      <td>360.0</td>\n",
       "      <td>LP001005</td>\n",
       "      <td>Y</td>\n",
       "      <td>train</td>\n",
       "      <td>1</td>\n",
       "      <td>0</td>\n",
       "      <td>0</td>\n",
       "      <td>1</td>\n",
       "      <td>0</td>\n",
       "      <td>0</td>\n",
       "      <td>1</td>\n",
       "      <td>0</td>\n",
       "      <td>1</td>\n",
       "      <td>0</td>\n",
       "      <td>1</td>\n",
       "    </tr>\n",
       "    <tr>\n",
       "      <th>3</th>\n",
       "      <td>2583</td>\n",
       "      <td>2358.0</td>\n",
       "      <td>1.0</td>\n",
       "      <td>0</td>\n",
       "      <td>120.00000</td>\n",
       "      <td>360.0</td>\n",
       "      <td>LP001006</td>\n",
       "      <td>Y</td>\n",
       "      <td>train</td>\n",
       "      <td>0</td>\n",
       "      <td>1</td>\n",
       "      <td>0</td>\n",
       "      <td>1</td>\n",
       "      <td>0</td>\n",
       "      <td>0</td>\n",
       "      <td>1</td>\n",
       "      <td>1</td>\n",
       "      <td>0</td>\n",
       "      <td>0</td>\n",
       "      <td>1</td>\n",
       "    </tr>\n",
       "    <tr>\n",
       "      <th>4</th>\n",
       "      <td>6000</td>\n",
       "      <td>0.0</td>\n",
       "      <td>1.0</td>\n",
       "      <td>0</td>\n",
       "      <td>141.00000</td>\n",
       "      <td>360.0</td>\n",
       "      <td>LP001008</td>\n",
       "      <td>Y</td>\n",
       "      <td>train</td>\n",
       "      <td>1</td>\n",
       "      <td>0</td>\n",
       "      <td>0</td>\n",
       "      <td>1</td>\n",
       "      <td>0</td>\n",
       "      <td>0</td>\n",
       "      <td>1</td>\n",
       "      <td>1</td>\n",
       "      <td>0</td>\n",
       "      <td>1</td>\n",
       "      <td>0</td>\n",
       "    </tr>\n",
       "  </tbody>\n",
       "</table>\n",
       "</div>"
      ],
      "text/plain": [
       "   ApplicantIncome  CoapplicantIncome  Credit_History Dependents  LoanAmount  \\\n",
       "0             5849                0.0             1.0          0   142.51153   \n",
       "1             4583             1508.0             1.0          1   128.00000   \n",
       "2             3000                0.0             1.0          0    66.00000   \n",
       "3             2583             2358.0             1.0          0   120.00000   \n",
       "4             6000                0.0             1.0          0   141.00000   \n",
       "\n",
       "   Loan_Amount_Term   Loan_ID Loan_Status source  Education_Graduate  \\\n",
       "0             360.0  LP001002           Y  train                   1   \n",
       "1             360.0  LP001003           N  train                   1   \n",
       "2             360.0  LP001005           Y  train                   1   \n",
       "3             360.0  LP001006           Y  train                   0   \n",
       "4             360.0  LP001008           Y  train                   1   \n",
       "\n",
       "   Education_Not Graduate  Gender_Female  Gender_Male  Property_Area_Rural  \\\n",
       "0                       0              0            1                    0   \n",
       "1                       0              0            1                    1   \n",
       "2                       0              0            1                    0   \n",
       "3                       1              0            1                    0   \n",
       "4                       0              0            1                    0   \n",
       "\n",
       "   Property_Area_Semiurban  Property_Area_Urban  Self_Employed_No  \\\n",
       "0                        0                    1                 1   \n",
       "1                        0                    0                 1   \n",
       "2                        0                    1                 0   \n",
       "3                        0                    1                 1   \n",
       "4                        0                    1                 1   \n",
       "\n",
       "   Self_Employed_Yes  Married_No  Married_Yes  \n",
       "0                  0           1            0  \n",
       "1                  0           0            1  \n",
       "2                  1           0            1  \n",
       "3                  0           0            1  \n",
       "4                  0           1            0  "
      ]
     },
     "execution_count": 89,
     "metadata": {},
     "output_type": "execute_result"
    }
   ],
   "source": [
    "combined_data.head()"
   ]
  },
  {
   "cell_type": "code",
   "execution_count": 90,
   "metadata": {},
   "outputs": [
    {
     "name": "stdout",
     "output_type": "stream",
     "text": [
      "\n",
      "\n",
      "<------ Summary for data --->\n",
      "\tShape of train data (981, 20)\n",
      "\tPrinting null values per column :\n",
      "ApplicantIncome              0\n",
      "CoapplicantIncome            0\n",
      "Credit_History               0\n",
      "Dependents                   0\n",
      "LoanAmount                   0\n",
      "Loan_Amount_Term             0\n",
      "Loan_ID                      0\n",
      "Loan_Status                367\n",
      "source                       0\n",
      "Education_Graduate           0\n",
      "Education_Not Graduate       0\n",
      "Gender_Female                0\n",
      "Gender_Male                  0\n",
      "Property_Area_Rural          0\n",
      "Property_Area_Semiurban      0\n",
      "Property_Area_Urban          0\n",
      "Self_Employed_No             0\n",
      "Self_Employed_Yes            0\n",
      "Married_No                   0\n",
      "Married_Yes                  0\n",
      "dtype: int64\n"
     ]
    }
   ],
   "source": [
    "print_dataset_summary(combined_data)"
   ]
  },
  {
   "cell_type": "code",
   "execution_count": null,
   "metadata": {},
   "outputs": [],
   "source": []
  },
  {
   "cell_type": "code",
   "execution_count": 91,
   "metadata": {},
   "outputs": [],
   "source": [
    "train = combined_data.loc[combined_data['source']==\"train\"]\n",
    "test = combined_data.loc[combined_data['source']==\"test\"]\n"
   ]
  },
  {
   "cell_type": "code",
   "execution_count": 92,
   "metadata": {},
   "outputs": [],
   "source": [
    "test.drop(['Loan_Status','source'],axis=1,inplace=True)\n",
    "train.drop(['source'],axis=1,inplace=True)"
   ]
  },
  {
   "cell_type": "code",
   "execution_count": 93,
   "metadata": {},
   "outputs": [
    {
     "data": {
      "text/html": [
       "<div>\n",
       "<style scoped>\n",
       "    .dataframe tbody tr th:only-of-type {\n",
       "        vertical-align: middle;\n",
       "    }\n",
       "\n",
       "    .dataframe tbody tr th {\n",
       "        vertical-align: top;\n",
       "    }\n",
       "\n",
       "    .dataframe thead th {\n",
       "        text-align: right;\n",
       "    }\n",
       "</style>\n",
       "<table border=\"1\" class=\"dataframe\">\n",
       "  <thead>\n",
       "    <tr style=\"text-align: right;\">\n",
       "      <th></th>\n",
       "      <th>ApplicantIncome</th>\n",
       "      <th>CoapplicantIncome</th>\n",
       "      <th>Credit_History</th>\n",
       "      <th>Dependents</th>\n",
       "      <th>LoanAmount</th>\n",
       "      <th>Loan_Amount_Term</th>\n",
       "      <th>Loan_ID</th>\n",
       "      <th>Education_Graduate</th>\n",
       "      <th>Education_Not Graduate</th>\n",
       "      <th>Gender_Female</th>\n",
       "      <th>Gender_Male</th>\n",
       "      <th>Property_Area_Rural</th>\n",
       "      <th>Property_Area_Semiurban</th>\n",
       "      <th>Property_Area_Urban</th>\n",
       "      <th>Self_Employed_No</th>\n",
       "      <th>Self_Employed_Yes</th>\n",
       "      <th>Married_No</th>\n",
       "      <th>Married_Yes</th>\n",
       "    </tr>\n",
       "  </thead>\n",
       "  <tbody>\n",
       "    <tr>\n",
       "      <th>614</th>\n",
       "      <td>5720</td>\n",
       "      <td>0.0</td>\n",
       "      <td>1.0</td>\n",
       "      <td>0</td>\n",
       "      <td>110.0</td>\n",
       "      <td>360.0</td>\n",
       "      <td>LP001015</td>\n",
       "      <td>1</td>\n",
       "      <td>0</td>\n",
       "      <td>0</td>\n",
       "      <td>1</td>\n",
       "      <td>0</td>\n",
       "      <td>0</td>\n",
       "      <td>1</td>\n",
       "      <td>1</td>\n",
       "      <td>0</td>\n",
       "      <td>0</td>\n",
       "      <td>1</td>\n",
       "    </tr>\n",
       "    <tr>\n",
       "      <th>615</th>\n",
       "      <td>3076</td>\n",
       "      <td>1500.0</td>\n",
       "      <td>1.0</td>\n",
       "      <td>1</td>\n",
       "      <td>126.0</td>\n",
       "      <td>360.0</td>\n",
       "      <td>LP001022</td>\n",
       "      <td>1</td>\n",
       "      <td>0</td>\n",
       "      <td>0</td>\n",
       "      <td>1</td>\n",
       "      <td>0</td>\n",
       "      <td>0</td>\n",
       "      <td>1</td>\n",
       "      <td>1</td>\n",
       "      <td>0</td>\n",
       "      <td>0</td>\n",
       "      <td>1</td>\n",
       "    </tr>\n",
       "    <tr>\n",
       "      <th>616</th>\n",
       "      <td>5000</td>\n",
       "      <td>1800.0</td>\n",
       "      <td>1.0</td>\n",
       "      <td>2</td>\n",
       "      <td>208.0</td>\n",
       "      <td>360.0</td>\n",
       "      <td>LP001031</td>\n",
       "      <td>1</td>\n",
       "      <td>0</td>\n",
       "      <td>0</td>\n",
       "      <td>1</td>\n",
       "      <td>0</td>\n",
       "      <td>0</td>\n",
       "      <td>1</td>\n",
       "      <td>1</td>\n",
       "      <td>0</td>\n",
       "      <td>0</td>\n",
       "      <td>1</td>\n",
       "    </tr>\n",
       "    <tr>\n",
       "      <th>617</th>\n",
       "      <td>2340</td>\n",
       "      <td>2546.0</td>\n",
       "      <td>1.0</td>\n",
       "      <td>2</td>\n",
       "      <td>100.0</td>\n",
       "      <td>360.0</td>\n",
       "      <td>LP001035</td>\n",
       "      <td>1</td>\n",
       "      <td>0</td>\n",
       "      <td>0</td>\n",
       "      <td>1</td>\n",
       "      <td>0</td>\n",
       "      <td>0</td>\n",
       "      <td>1</td>\n",
       "      <td>1</td>\n",
       "      <td>0</td>\n",
       "      <td>0</td>\n",
       "      <td>1</td>\n",
       "    </tr>\n",
       "    <tr>\n",
       "      <th>618</th>\n",
       "      <td>3276</td>\n",
       "      <td>0.0</td>\n",
       "      <td>1.0</td>\n",
       "      <td>0</td>\n",
       "      <td>78.0</td>\n",
       "      <td>360.0</td>\n",
       "      <td>LP001051</td>\n",
       "      <td>0</td>\n",
       "      <td>1</td>\n",
       "      <td>0</td>\n",
       "      <td>1</td>\n",
       "      <td>0</td>\n",
       "      <td>0</td>\n",
       "      <td>1</td>\n",
       "      <td>1</td>\n",
       "      <td>0</td>\n",
       "      <td>1</td>\n",
       "      <td>0</td>\n",
       "    </tr>\n",
       "  </tbody>\n",
       "</table>\n",
       "</div>"
      ],
      "text/plain": [
       "     ApplicantIncome  CoapplicantIncome  Credit_History Dependents  \\\n",
       "614             5720                0.0             1.0          0   \n",
       "615             3076             1500.0             1.0          1   \n",
       "616             5000             1800.0             1.0          2   \n",
       "617             2340             2546.0             1.0          2   \n",
       "618             3276                0.0             1.0          0   \n",
       "\n",
       "     LoanAmount  Loan_Amount_Term   Loan_ID  Education_Graduate  \\\n",
       "614       110.0             360.0  LP001015                   1   \n",
       "615       126.0             360.0  LP001022                   1   \n",
       "616       208.0             360.0  LP001031                   1   \n",
       "617       100.0             360.0  LP001035                   1   \n",
       "618        78.0             360.0  LP001051                   0   \n",
       "\n",
       "     Education_Not Graduate  Gender_Female  Gender_Male  Property_Area_Rural  \\\n",
       "614                       0              0            1                    0   \n",
       "615                       0              0            1                    0   \n",
       "616                       0              0            1                    0   \n",
       "617                       0              0            1                    0   \n",
       "618                       1              0            1                    0   \n",
       "\n",
       "     Property_Area_Semiurban  Property_Area_Urban  Self_Employed_No  \\\n",
       "614                        0                    1                 1   \n",
       "615                        0                    1                 1   \n",
       "616                        0                    1                 1   \n",
       "617                        0                    1                 1   \n",
       "618                        0                    1                 1   \n",
       "\n",
       "     Self_Employed_Yes  Married_No  Married_Yes  \n",
       "614                  0           0            1  \n",
       "615                  0           0            1  \n",
       "616                  0           0            1  \n",
       "617                  0           0            1  \n",
       "618                  0           1            0  "
      ]
     },
     "execution_count": 93,
     "metadata": {},
     "output_type": "execute_result"
    }
   ],
   "source": [
    "test.head()"
   ]
  },
  {
   "cell_type": "code",
   "execution_count": 94,
   "metadata": {},
   "outputs": [],
   "source": [
    "target = 'Loan_Status'\n",
    "IDcol = ['Loan_ID']\n",
    "submissionCols = ['Loan_ID','Loan_Status']"
   ]
  },
  {
   "cell_type": "code",
   "execution_count": 95,
   "metadata": {},
   "outputs": [],
   "source": [
    "predictors = [x for x in train.columns if x not in [target]+IDcol]"
   ]
  },
  {
   "cell_type": "code",
   "execution_count": 96,
   "metadata": {},
   "outputs": [
    {
     "data": {
      "text/plain": [
       "['ApplicantIncome',\n",
       " 'CoapplicantIncome',\n",
       " 'Credit_History',\n",
       " 'Dependents',\n",
       " 'LoanAmount',\n",
       " 'Loan_Amount_Term',\n",
       " 'Education_Graduate',\n",
       " 'Education_Not Graduate',\n",
       " 'Gender_Female',\n",
       " 'Gender_Male',\n",
       " 'Property_Area_Rural',\n",
       " 'Property_Area_Semiurban',\n",
       " 'Property_Area_Urban',\n",
       " 'Self_Employed_No',\n",
       " 'Self_Employed_Yes',\n",
       " 'Married_No',\n",
       " 'Married_Yes']"
      ]
     },
     "execution_count": 96,
     "metadata": {},
     "output_type": "execute_result"
    }
   ],
   "source": [
    "predictors"
   ]
  },
  {
   "cell_type": "code",
   "execution_count": 97,
   "metadata": {},
   "outputs": [],
   "source": [
    "X = train[predictors]\n",
    "Y = train[target]"
   ]
  },
  {
   "cell_type": "code",
   "execution_count": 98,
   "metadata": {},
   "outputs": [],
   "source": [
    "X_train, X_test, Y_train , Y_test = train_test_split(X,Y,test_size = 0.2, random_state = 0)"
   ]
  },
  {
   "cell_type": "code",
   "execution_count": 99,
   "metadata": {},
   "outputs": [],
   "source": [
    "# Decision tree classifier\n",
    "from sklearn.tree import DecisionTreeClassifier\n",
    "classifier = DecisionTreeClassifier()"
   ]
  },
  {
   "cell_type": "code",
   "execution_count": 103,
   "metadata": {},
   "outputs": [],
   "source": [
    "from sklearn.neighbors import KNeighborsClassifier\n",
    "classifier = KNeighborsClassifier(n_neighbors = 5, metric = 'minkowski', p = 2)"
   ]
  },
  {
   "cell_type": "code",
   "execution_count": 106,
   "metadata": {},
   "outputs": [],
   "source": [
    "from sklearn.ensemble import RandomForestClassifier\n",
    "classifier = RandomForestClassifier(n_estimators = 100, criterion = 'entropy', random_state = 0)"
   ]
  },
  {
   "cell_type": "code",
   "execution_count": 116,
   "metadata": {},
   "outputs": [],
   "source": [
    "from sklearn.ensemble import AdaBoostClassifier\n",
    "tree = DecisionTreeClassifier(criterion='entropy',max_depth=1)\n",
    "classifier = AdaBoostClassifier(base_estimator=tree, n_estimators=500, learning_rate=0.1, random_state=0)"
   ]
  },
  {
   "cell_type": "code",
   "execution_count": 117,
   "metadata": {},
   "outputs": [],
   "source": [
    "classifier.fit(X_train, Y_train)\n",
    "y_pred = classifier.predict(X_test)\n",
    "\n",
    "# Making the Confusion Matrix\n",
    "from sklearn.metrics import confusion_matrix\n",
    "cm = confusion_matrix(Y_test, y_pred)"
   ]
  },
  {
   "cell_type": "code",
   "execution_count": 118,
   "metadata": {},
   "outputs": [
    {
     "data": {
      "text/plain": [
       "array([[16, 17],\n",
       "       [ 5, 85]])"
      ]
     },
     "execution_count": 118,
     "metadata": {},
     "output_type": "execute_result"
    }
   ],
   "source": [
    "cm"
   ]
  },
  {
   "cell_type": "code",
   "execution_count": 119,
   "metadata": {},
   "outputs": [
    {
     "name": "stderr",
     "output_type": "stream",
     "text": [
      "/home/ketan/installation/anaconda3/envs/datascience_env/lib/python3.7/site-packages/ipykernel_launcher.py:1: SettingWithCopyWarning: \n",
      "A value is trying to be set on a copy of a slice from a DataFrame.\n",
      "Try using .loc[row_indexer,col_indexer] = value instead\n",
      "\n",
      "See the caveats in the documentation: http://pandas.pydata.org/pandas-docs/stable/indexing.html#indexing-view-versus-copy\n",
      "  \"\"\"Entry point for launching an IPython kernel.\n",
      "/home/ketan/installation/anaconda3/envs/datascience_env/lib/python3.7/site-packages/ipykernel_launcher.py:4: SettingWithCopyWarning: \n",
      "A value is trying to be set on a copy of a slice from a DataFrame.\n",
      "Try using .loc[row_indexer,col_indexer] = value instead\n",
      "\n",
      "See the caveats in the documentation: http://pandas.pydata.org/pandas-docs/stable/indexing.html#indexing-view-versus-copy\n",
      "  after removing the cwd from sys.path.\n"
     ]
    }
   ],
   "source": [
    "test[target] = classifier.predict(test[predictors])\n",
    "\n",
    "submission = test[IDcol]\n",
    "submission[target] = test[target]\n",
    "submission.to_csv(\"data/ada_boost.csv\", index=False)"
   ]
  },
  {
   "cell_type": "code",
   "execution_count": null,
   "metadata": {},
   "outputs": [],
   "source": []
  }
 ],
 "metadata": {
  "kernelspec": {
   "display_name": "Python 3",
   "language": "python",
   "name": "python3"
  },
  "language_info": {
   "codemirror_mode": {
    "name": "ipython",
    "version": 3
   },
   "file_extension": ".py",
   "mimetype": "text/x-python",
   "name": "python",
   "nbconvert_exporter": "python",
   "pygments_lexer": "ipython3",
   "version": "3.7.3"
  }
 },
 "nbformat": 4,
 "nbformat_minor": 2
}
